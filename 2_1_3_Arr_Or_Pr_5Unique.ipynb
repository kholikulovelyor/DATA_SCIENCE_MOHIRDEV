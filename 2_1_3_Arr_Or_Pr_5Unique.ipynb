{
  "nbformat": 4,
  "nbformat_minor": 0,
  "metadata": {
    "colab": {
      "provenance": [],
      "authorship_tag": "ABX9TyM0yHF2VYGt7beAjIKK7Dvc",
      "include_colab_link": true
    },
    "kernelspec": {
      "name": "python3",
      "display_name": "Python 3"
    },
    "language_info": {
      "name": "python"
    }
  },
  "cells": [
    {
      "cell_type": "markdown",
      "metadata": {
        "id": "view-in-github",
        "colab_type": "text"
      },
      "source": [
        "<a href=\"https://colab.research.google.com/github/kholikulovelyor/Data-Darsliklari-uchun/blob/2-modul-Data-Analysis-Numpy-kutubxonasi/2_1_3_Arr_Or_Pr_5Unique.ipynb\" target=\"_parent\"><img src=\"https://colab.research.google.com/assets/colab-badge.svg\" alt=\"Open In Colab\"/></a>"
      ]
    },
    {
      "cell_type": "markdown",
      "source": [
        "#**Data Science va Sun'iy intellekt praktikum**\n"
      ],
      "metadata": {
        "id": "ExiKn2P2Db1n"
      }
    },
    {
      "cell_type": "markdown",
      "source": [
        "Malumotlar tahlili.\n",
        "2.1. Numpy Kutubxonasi bilan ishlash \n"
      ],
      "metadata": {
        "id": "Q7XPHZ2CDpay"
      }
    },
    {
      "cell_type": "markdown",
      "source": [
        "#**Numpy kutubxonasini chaqririb olish**\n"
      ],
      "metadata": {
        "id": "3UkHSUPED17H"
      }
    },
    {
      "cell_type": "code",
      "source": [
        "import numpy as np"
      ],
      "metadata": {
        "id": "H-LhELJ2Gyqw"
      },
      "execution_count": 2,
      "outputs": []
    },
    {
      "cell_type": "markdown",
      "source": [
        "#**`unique` va `in1d` `setdiff1d` va boshqa usullar haqida**"
      ],
      "metadata": {
        "id": "5AfFQ9KtEGXY"
      }
    },
    {
      "cell_type": "code",
      "source": [
        "# data \n",
        "names = np.array(['Sarvar', 'Abdurahmon', 'Hasan', 'Temur', 'Sarvar', 'Temur'])\n",
        "ints = np.array([3, 3, 3, 2, 2, 1, 1, 4, 4])"
      ],
      "metadata": {
        "id": "QorRcUu-DkVU"
      },
      "execution_count": 3,
      "outputs": []
    },
    {
      "cell_type": "code",
      "source": [
        "names\n",
        "ints"
      ],
      "metadata": {
        "colab": {
          "base_uri": "https://localhost:8080/"
        },
        "id": "xjYWLs4XGs7J",
        "outputId": "22eacab5-b45e-441a-9a16-216b57615b4a"
      },
      "execution_count": 4,
      "outputs": [
        {
          "output_type": "execute_result",
          "data": {
            "text/plain": [
              "array([3, 3, 3, 2, 2, 1, 1, 4, 4])"
            ]
          },
          "metadata": {},
          "execution_count": 4
        }
      ]
    },
    {
      "cell_type": "markdown",
      "source": [
        "# №1-method: unique\n",
        "Tavsif\n",
        "\n",
        "English:\n",
        "The unique() function is used to find the unique elements of an array.Returns the sorted unique elements of an array. There are three optional outputs in addition to the unique elements:\n",
        "\n",
        "Uzbek:\n",
        "Unique methodini vazifasi ma'lumotlardagi takrorlanmas elementlarni qaytaradi agarda ma'lumotlar takrorlanadigan bo'saham aynan o'sha takrorlangan elemsntlarnibg faqat bittasigina qabul qiladi:\n",
        "\n",
        "#Qo'shimcha\n",
        "unique methodi phytondagi set funksiyasi bilan bir xil vazifa bajaradi"
      ],
      "metadata": {
        "id": "3bf4tJkyKoyj"
      }
    },
    {
      "cell_type": "code",
      "source": [
        "names"
      ],
      "metadata": {
        "colab": {
          "base_uri": "https://localhost:8080/"
        },
        "id": "z4cfCN4kMT61",
        "outputId": "5ff110a6-ef08-4dc8-bc76-39b5b82de86a"
      },
      "execution_count": 9,
      "outputs": [
        {
          "output_type": "execute_result",
          "data": {
            "text/plain": [
              "array(['Sarvar', 'Abdurahmon', 'Hasan', 'Temur', 'Sarvar', 'Temur'],\n",
              "      dtype='<U10')"
            ]
          },
          "metadata": {},
          "execution_count": 9
        }
      ]
    },
    {
      "cell_type": "code",
      "source": [
        "# uniuqe method\n",
        "np.unique(names) # names dagi takrorlanmas elementlarni qaytaradi (takrorlansa ham faqat bittasini qabul qiladi)"
      ],
      "metadata": {
        "colab": {
          "base_uri": "https://localhost:8080/"
        },
        "id": "PMppDB-fG3JB",
        "outputId": "581a3d5d-1cde-41f8-89e7-3f95a4c3bff4"
      },
      "execution_count": 10,
      "outputs": [
        {
          "output_type": "execute_result",
          "data": {
            "text/plain": [
              "array(['Abdurahmon', 'Hasan', 'Sarvar', 'Temur'], dtype='<U10')"
            ]
          },
          "metadata": {},
          "execution_count": 10
        }
      ]
    },
    {
      "cell_type": "code",
      "source": [
        "set(names) # names dagi unique(takrorlanmas) elementlarni qaytaradi"
      ],
      "metadata": {
        "colab": {
          "base_uri": "https://localhost:8080/"
        },
        "id": "Ke2fdoLTL_B5",
        "outputId": "ee767cc5-0c06-4a21-d0f8-b8edf57ae43a"
      },
      "execution_count": 11,
      "outputs": [
        {
          "output_type": "execute_result",
          "data": {
            "text/plain": [
              "{'Abdurahmon', 'Hasan', 'Sarvar', 'Temur'}"
            ]
          },
          "metadata": {},
          "execution_count": 11
        }
      ]
    },
    {
      "cell_type": "markdown",
      "source": [
        "#**№ 2 - method `in1d` usuli haqida**\n",
        "\n",
        "Tavsif \n",
        "\n",
        "English:\n",
        "\n",
        "in1d() function in Python. numpy. in1d() function test whether each element of a 1-D array is also present in a second array and return a boolean array the same length as arr1 that is True where an element of arr1 is in arr2 and False otherwise.\n",
        "\n",
        "Uzbek:\n",
        "\n",
        "Python-da in1d() funktsiyasi. numpy. in1d() funktsiyasi 1 o'lchovli massivning har bir elementi ikkinchi massivda ham bor yoki yo'qligini tekshiradi va arr1 elementi arr2da bo'lsa, True bo'lgan arr1 bilan bir xil uzunlikdagi mantiqiy massivni qaytaradi, aks holda False.\n"
      ],
      "metadata": {
        "id": "jVNFUK3KN9BV"
      }
    },
    {
      "cell_type": "code",
      "source": [
        "# data\n",
        "arr2 = np.array([6, 0, 0, 3, 2, 5, 6])\n",
        "arr3 = np.array([0, 2, 3])"
      ],
      "metadata": {
        "id": "7a0e_LXGOSt5"
      },
      "execution_count": 13,
      "outputs": []
    },
    {
      "cell_type": "code",
      "source": [
        "np.in1d(arr2, arr3) # arr2 dagi elementlarni arr1 da mavjudligini tekshiradi"
      ],
      "metadata": {
        "colab": {
          "base_uri": "https://localhost:8080/"
        },
        "id": "Y10_Mcy9OsV-",
        "outputId": "56c3c76b-a332-4942-901c-e0b26350c5c4"
      },
      "execution_count": 16,
      "outputs": [
        {
          "output_type": "execute_result",
          "data": {
            "text/plain": [
              "array([False,  True,  True,  True,  True, False, False])"
            ]
          },
          "metadata": {},
          "execution_count": 16
        }
      ]
    },
    {
      "cell_type": "markdown",
      "source": [
        "#**№ 3-method `setdiff1d` usuli haqida \n",
        "\n",
        "Tavsif:\n",
        "\n",
        "English:\n",
        "\n",
        "setdiff1d() function find the set difference of two arrays and return the unique values in arr1 that are not in arr2. Parameters : arr1 : [array_like] Input array:\n",
        "\n",
        "\n",
        "Uzbek:\n",
        "\n",
        "Bu method 2 ta massiv qabul qiladi va aynan manashu massiv elementlarini bir biri bilan taqoslaydi va manashu taqqoslash natijasidagi , birinchi massivimizning elementlari ikkinchi massivimizning elementlaridagi mavjud bo'lmagan qisminigina ajratib oladi:"
      ],
      "metadata": {
        "id": "Gl02VP2ERPDa"
      }
    },
    {
      "cell_type": "code",
      "source": [
        "#data\n",
        "names1 = np.array(['Jasur', 'Abdurahmon', 'Hasan',  'Muhammad', 'Sarvar', 'Temur'])\n",
        "names2 = np.array(['Sarvar', 'Abdurahmon', 'Hasan',  'Temur', 'Sarvar', 'Temur'])"
      ],
      "metadata": {
        "id": "fsmwjv_eRick"
      },
      "execution_count": 17,
      "outputs": []
    },
    {
      "cell_type": "code",
      "source": [
        "np.setdiff1d(names1, names2) # names1 massivining names2 massividagi takrorlanmas qismini qaytaradi"
      ],
      "metadata": {
        "colab": {
          "base_uri": "https://localhost:8080/"
        },
        "id": "tazkvPBkRrBB",
        "outputId": "1aa97e0b-0c37-46e7-d0a8-8b765121bd97"
      },
      "execution_count": 18,
      "outputs": [
        {
          "output_type": "execute_result",
          "data": {
            "text/plain": [
              "array(['Jasur', 'Muhammad'], dtype='<U10')"
            ]
          },
          "metadata": {},
          "execution_count": 18
        }
      ]
    }
  ]
}