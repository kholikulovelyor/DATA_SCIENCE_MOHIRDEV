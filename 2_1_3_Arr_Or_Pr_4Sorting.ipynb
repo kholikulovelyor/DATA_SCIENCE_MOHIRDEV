{
  "nbformat": 4,
  "nbformat_minor": 0,
  "metadata": {
    "colab": {
      "provenance": [],
      "authorship_tag": "ABX9TyMr/bT4kZKd4WMqeEV4gEP2",
      "include_colab_link": true
    },
    "kernelspec": {
      "name": "python3",
      "display_name": "Python 3"
    },
    "language_info": {
      "name": "python"
    }
  },
  "cells": [
    {
      "cell_type": "markdown",
      "metadata": {
        "id": "view-in-github",
        "colab_type": "text"
      },
      "source": [
        "<a href=\"https://colab.research.google.com/github/kholikulovelyor/Data-Darsliklari-uchun/blob/main/2_1_3_Arr_Or_Pr_4Sorting.ipynb\" target=\"_parent\"><img src=\"https://colab.research.google.com/assets/colab-badge.svg\" alt=\"Open In Colab\"/></a>"
      ]
    },
    {
      "cell_type": "markdown",
      "source": [
        "#**Data Science Praktikum**\n",
        "> Data Science va Sun'iy Intellekt Praktikum\n",
        "\n",
        "> Ma'lumotlar tahlili\n",
        "\n",
        "2.1. Numpy kutubxonasi bilan ishlash \n"
      ],
      "metadata": {
        "id": "zCVCSBZHqlm2"
      }
    },
    {
      "cell_type": "code",
      "execution_count": null,
      "metadata": {
        "id": "OSKcrSSTqe5f"
      },
      "outputs": [],
      "source": [
        "import numpy as np"
      ]
    },
    {
      "cell_type": "markdown",
      "source": [
        "2.1.3. Massivga yo'naltirilgan dasturlash "
      ],
      "metadata": {
        "id": "kDJs_qCHsKzR"
      }
    },
    {
      "cell_type": "markdown",
      "source": [
        "#**Tartiblash**\n",
        " `Sorting`"
      ],
      "metadata": {
        "id": "SewbQPOUsSgY"
      }
    },
    {
      "cell_type": "code",
      "source": [
        "# data\n",
        "arr = np.random.rand(4) # 4 ta taxminiy elementlardan tashkil topgan massiv\n",
        "arr"
      ],
      "metadata": {
        "colab": {
          "base_uri": "https://localhost:8080/"
        },
        "id": "JthCd90Xr2H6",
        "outputId": "c537db7f-46d4-4b7c-afd7-a765cf47f18e"
      },
      "execution_count": null,
      "outputs": [
        {
          "output_type": "execute_result",
          "data": {
            "text/plain": [
              "array([0.75038727, 0.03475834, 0.1174923 , 0.98178248])"
            ]
          },
          "metadata": {},
          "execution_count": 10
        }
      ]
    },
    {
      "cell_type": "markdown",
      "source": [
        "#**Sort**\n",
        ">`Sort` funksiyasi "
      ],
      "metadata": {
        "id": "gtQsMuMEttNS"
      }
    },
    {
      "cell_type": "code",
      "source": [
        "# 1 usul\n",
        "sorted_arr = np.sort(arr) # arr massivini tartiblangan ko'rinishini sorted_arr joylaydi\n",
        "sorted_arr"
      ],
      "metadata": {
        "colab": {
          "base_uri": "https://localhost:8080/"
        },
        "id": "zgSLAz3QtT4U",
        "outputId": "aa0e0be2-60f2-43a2-c32f-a831d40b1895"
      },
      "execution_count": null,
      "outputs": [
        {
          "output_type": "execute_result",
          "data": {
            "text/plain": [
              "array([0.03475834, 0.1174923 , 0.75038727, 0.98178248])"
            ]
          },
          "metadata": {},
          "execution_count": 12
        }
      ]
    },
    {
      "cell_type": "code",
      "source": [
        "# 2 usul \n",
        "sorted_arr.sort() # arr ning tartiblangan ko'rinishi\n",
        "sorted_arr"
      ],
      "metadata": {
        "id": "iKQc5xCguuuC",
        "colab": {
          "base_uri": "https://localhost:8080/"
        },
        "outputId": "fbadf815-c3b6-4ebb-dd2f-9227559cb6d8"
      },
      "execution_count": 17,
      "outputs": [
        {
          "output_type": "execute_result",
          "data": {
            "text/plain": [
              "array([0.03475834, 0.1174923 , 0.75038727, 0.98178248])"
            ]
          },
          "metadata": {},
          "execution_count": 17
        }
      ]
    },
    {
      "cell_type": "code",
      "source": [],
      "metadata": {
        "id": "5NvEoPI74Qy_"
      },
      "execution_count": null,
      "outputs": []
    },
    {
      "cell_type": "markdown",
      "source": [
        "#Teskari tartiblash\n",
        "\n"
      ],
      "metadata": {
        "id": "h6xQx50E4aku"
      }
    },
    {
      "cell_type": "code",
      "source": [
        "rev_arr = -np.sort(-arr) # teskari tartibdagi arr\n",
        "rev_arr"
      ],
      "metadata": {
        "colab": {
          "base_uri": "https://localhost:8080/"
        },
        "id": "mtwtXlRT4fOS",
        "outputId": "c8037fb8-c1b7-4945-92ed-ac7a62df9a6b"
      },
      "execution_count": 22,
      "outputs": [
        {
          "output_type": "execute_result",
          "data": {
            "text/plain": [
              "array([0.98178248, 0.75038727, 0.1174923 , 0.03475834])"
            ]
          },
          "metadata": {},
          "execution_count": 22
        }
      ]
    },
    {
      "cell_type": "code",
      "source": [
        "# 2 D array (massiv)\n",
        "arr2d = np.random.randn(2, 4) # (2, 4) random massiv\n",
        "arr2d"
      ],
      "metadata": {
        "colab": {
          "base_uri": "https://localhost:8080/"
        },
        "id": "BTmX0PF_5Lv1",
        "outputId": "74b26ef7-ee60-422c-f992-5d18cf1d99fc"
      },
      "execution_count": 35,
      "outputs": [
        {
          "output_type": "execute_result",
          "data": {
            "text/plain": [
              "array([[ 1.8030505 ,  1.38519883,  1.12000362,  1.40983625],\n",
              "       [-0.16860593, -1.35920359, -0.13813715,  0.52773212]])"
            ]
          },
          "metadata": {},
          "execution_count": 35
        }
      ]
    },
    {
      "cell_type": "code",
      "source": [
        "# axis = 0 -- Qator o'qi\n",
        "# axis = 1 -- ustun o'qi"
      ],
      "metadata": {
        "id": "vUDDs0fU57ee"
      },
      "execution_count": 36,
      "outputs": []
    },
    {
      "cell_type": "code",
      "source": [
        "row_srt = np.sort(arr2d, axis=0) # arr2d ning xar bir qator bo'yicha tartiblangan ko'rinishi\n",
        "row_srt"
      ],
      "metadata": {
        "colab": {
          "base_uri": "https://localhost:8080/"
        },
        "id": "FszHw9lZ6ZNx",
        "outputId": "91b1f8f7-a6f6-42a4-c9fe-d1a55dc84346"
      },
      "execution_count": 37,
      "outputs": [
        {
          "output_type": "execute_result",
          "data": {
            "text/plain": [
              "array([[-0.16860593, -1.35920359, -0.13813715,  0.52773212],\n",
              "       [ 1.8030505 ,  1.38519883,  1.12000362,  1.40983625]])"
            ]
          },
          "metadata": {},
          "execution_count": 37
        }
      ]
    },
    {
      "cell_type": "code",
      "source": [
        "# Axis = 1 --> Ustun o'qi\n",
        "col_srt = np.sort(arr2d, axis=1) # arr2d ning xar bir ustun bo'yicha tartiblangan ko'rinishi\n",
        "col_srt"
      ],
      "metadata": {
        "colab": {
          "base_uri": "https://localhost:8080/"
        },
        "id": "1Mp2ICvY6z2J",
        "outputId": "08e48d5b-851c-4ecf-b981-3d16aa2685db"
      },
      "execution_count": 41,
      "outputs": [
        {
          "output_type": "execute_result",
          "data": {
            "text/plain": [
              "array([[ 1.12000362,  1.38519883,  1.40983625,  1.8030505 ],\n",
              "       [-1.35920359, -0.16860593, -0.13813715,  0.52773212]])"
            ]
          },
          "metadata": {},
          "execution_count": 41
        }
      ]
    },
    {
      "cell_type": "code",
      "source": [],
      "metadata": {
        "id": "eH_8g-hC7zPE"
      },
      "execution_count": null,
      "outputs": []
    }
  ]
}