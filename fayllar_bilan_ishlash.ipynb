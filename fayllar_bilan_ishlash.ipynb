{
  "nbformat": 4,
  "nbformat_minor": 0,
  "metadata": {
    "colab": {
      "provenance": [],
      "authorship_tag": "ABX9TyO7+44//fyCilZGfYXu7ltS",
      "include_colab_link": true
    },
    "kernelspec": {
      "name": "python3",
      "display_name": "Python 3"
    },
    "language_info": {
      "name": "python"
    }
  },
  "cells": [
    {
      "cell_type": "markdown",
      "metadata": {
        "id": "view-in-github",
        "colab_type": "text"
      },
      "source": [
        "<a href=\"https://colab.research.google.com/github/kholikulovelyor/Data-Darsliklari-uchun/blob/2-modul-Data-Analysis-Numpy-kutubxonasi/fayllar_bilan_ishlash.ipynb\" target=\"_parent\"><img src=\"https://colab.research.google.com/assets/colab-badge.svg\" alt=\"Open In Colab\"/></a>"
      ]
    },
    {
      "cell_type": "markdown",
      "source": [
        "#**Data Science va Sun'iy Intellekt Praktikum**\n",
        "Ma'lumotlar tahlili va numpy kutubxonasi\n",
        "Fayllar bilan ishlash\n",
        "\n"
      ],
      "metadata": {
        "id": "s8od8Pv0k-cW"
      }
    },
    {
      "cell_type": "code",
      "execution_count": null,
      "metadata": {
        "id": "GFuwqtrhksTo"
      },
      "outputs": [],
      "source": [
        "import numpy as np"
      ]
    },
    {
      "cell_type": "code",
      "source": [
        "arr = np.arange(10)\n",
        "arr"
      ],
      "metadata": {
        "colab": {
          "base_uri": "https://localhost:8080/"
        },
        "id": "Ov6l0PNmlY9V",
        "outputId": "119aab2d-6380-404a-98ba-f78c33b1e5e4"
      },
      "execution_count": null,
      "outputs": [
        {
          "output_type": "execute_result",
          "data": {
            "text/plain": [
              "array([0, 1, 2, 3, 4, 5, 6, 7, 8, 9])"
            ]
          },
          "metadata": {},
          "execution_count": 4
        }
      ]
    },
    {
      "cell_type": "markdown",
      "source": [
        "Faylni saqlash usuli"
      ],
      "metadata": {
        "id": "Xre0ShlAtANg"
      }
    },
    {
      "cell_type": "code",
      "source": [
        "np.save('data', arr)"
      ],
      "metadata": {
        "id": "OwTVYGoUliid"
      },
      "execution_count": null,
      "outputs": []
    },
    {
      "cell_type": "markdown",
      "source": [
        "faylni yuklash usuli"
      ],
      "metadata": {
        "id": "uM8TzqV5tNd5"
      }
    },
    {
      "cell_type": "code",
      "source": [
        "arr2 = np.load('data.npy')"
      ],
      "metadata": {
        "id": "jCee_jAas1Ud"
      },
      "execution_count": null,
      "outputs": []
    },
    {
      "cell_type": "code",
      "source": [
        "arr2"
      ],
      "metadata": {
        "colab": {
          "base_uri": "https://localhost:8080/"
        },
        "id": "EN5HlKV1tHYy",
        "outputId": "4e89bca9-3cb2-43bc-b6c6-4ee50acb941f"
      },
      "execution_count": null,
      "outputs": [
        {
          "output_type": "execute_result",
          "data": {
            "text/plain": [
              "array([0, 1, 2, 3, 4, 5, 6, 7, 8, 9])"
            ]
          },
          "metadata": {},
          "execution_count": 11
        }
      ]
    },
    {
      "cell_type": "code",
      "source": [
        "arr1 = np.arange(20)"
      ],
      "metadata": {
        "id": "psmG_PV8u_li"
      },
      "execution_count": null,
      "outputs": []
    },
    {
      "cell_type": "markdown",
      "source": [
        "Bir nechta arraylarni bitta faylga joylash "
      ],
      "metadata": {
        "id": "A3iiVY5yteA7"
      }
    },
    {
      "cell_type": "code",
      "source": [
        "np.savez('arrays', a = arr, b=arr1)"
      ],
      "metadata": {
        "id": "FC18PeHPtSlG"
      },
      "execution_count": null,
      "outputs": []
    },
    {
      "cell_type": "markdown",
      "source": [
        "tepadgi faylni o'qish ucun bu usuldan foydalanamiz"
      ],
      "metadata": {
        "id": "2uJdP9qnuADO"
      }
    },
    {
      "cell_type": "code",
      "source": [
        "arrays = np.load('arrays.npz')\n",
        "arrays"
      ],
      "metadata": {
        "colab": {
          "base_uri": "https://localhost:8080/"
        },
        "id": "u1Ci0UvYtldE",
        "outputId": "0691684e-fd31-4aff-bdfe-0449fa58b1ec"
      },
      "execution_count": null,
      "outputs": [
        {
          "output_type": "execute_result",
          "data": {
            "text/plain": [
              "<numpy.lib.npyio.NpzFile at 0x7f9b09c06110>"
            ]
          },
          "metadata": {},
          "execution_count": 24
        }
      ]
    },
    {
      "cell_type": "markdown",
      "source": [
        "Shu usul bilan murojat qilamiz\n"
      ],
      "metadata": {
        "id": "xdVvQSZFuhFe"
      }
    },
    {
      "cell_type": "code",
      "source": [
        "arrays['a']"
      ],
      "metadata": {
        "colab": {
          "base_uri": "https://localhost:8080/"
        },
        "id": "UbI7yq99uPh3",
        "outputId": "16f6ba11-bf0d-4ec3-d559-f4ea4a777186"
      },
      "execution_count": null,
      "outputs": [
        {
          "output_type": "execute_result",
          "data": {
            "text/plain": [
              "array([0, 1, 2, 3, 4, 5, 6, 7, 8, 9])"
            ]
          },
          "metadata": {},
          "execution_count": 25
        }
      ]
    },
    {
      "cell_type": "code",
      "source": [
        "arrays['b']"
      ],
      "metadata": {
        "colab": {
          "base_uri": "https://localhost:8080/"
        },
        "id": "KuVosO1zux1b",
        "outputId": "d925055d-81ae-459c-98de-5ef7d2c43aad"
      },
      "execution_count": null,
      "outputs": [
        {
          "output_type": "execute_result",
          "data": {
            "text/plain": [
              "array([ 0,  1,  2,  3,  4,  5,  6,  7,  8,  9, 10, 11, 12, 13, 14, 15, 16,\n",
              "       17, 18, 19])"
            ]
          },
          "metadata": {},
          "execution_count": 26
        }
      ]
    },
    {
      "cell_type": "markdown",
      "source": [
        "Bu usul yuqoridagi usullar bilan bir xil faqat bu arraylarni siqilgan formatda saqlaydi"
      ],
      "metadata": {
        "id": "tB3afQVWvS9k"
      }
    },
    {
      "cell_type": "code",
      "source": [
        "np.savez_compressed(arrays)"
      ],
      "metadata": {
        "id": "O7F2adSSu4Fu"
      },
      "execution_count": null,
      "outputs": []
    }
  ]
}