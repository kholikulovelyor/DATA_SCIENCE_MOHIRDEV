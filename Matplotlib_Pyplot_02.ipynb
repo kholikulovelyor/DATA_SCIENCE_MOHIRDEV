{
  "nbformat": 4,
  "nbformat_minor": 0,
  "metadata": {
    "colab": {
      "provenance": [],
      "authorship_tag": "ABX9TyMy9eVzql2cFM4015gLNamQ",
      "include_colab_link": true
    },
    "kernelspec": {
      "name": "python3",
      "display_name": "Python 3"
    },
    "language_info": {
      "name": "python"
    }
  },
  "cells": [
    {
      "cell_type": "markdown",
      "metadata": {
        "id": "view-in-github",
        "colab_type": "text"
      },
      "source": [
        "<a href=\"https://colab.research.google.com/github/kholikulovelyor/Data-Darsliklari-uchun/blob/Matplotlib/Matplotlib_Pyplot_02.ipynb\" target=\"_parent\"><img src=\"https://colab.research.google.com/assets/colab-badge.svg\" alt=\"Open In Colab\"/></a>"
      ]
    },
    {
      "cell_type": "code",
      "execution_count": null,
      "metadata": {
        "id": "4Fz7jNMOp9U5"
      },
      "outputs": [],
      "source": [
        "Lang: Eng\n",
        "#Pyplot\n",
        "Most of the Matplotlib utilities lies under the pyplot submodule, and are usually imported under the plt alias:"
      ]
    },
    {
      "cell_type": "code",
      "source": [
        "import matplotlib.pyplot as plt"
      ],
      "metadata": {
        "id": "AAXcZDl1qO4i"
      },
      "execution_count": 1,
      "outputs": []
    },
    {
      "cell_type": "markdown",
      "source": [
        "# Now the Pyplot package can be referred to as plt."
      ],
      "metadata": {
        "id": "6qPUoDLMqVsQ"
      }
    },
    {
      "cell_type": "code",
      "source": [
        "#Example\n",
        "#Draw a line in a diagram from position (0,0) to position (6,250):\n",
        "\n",
        "import matplotlib.pyplot as plt\n",
        "import numpy as np\n",
        "\n",
        "xpoints = np.array([0, 6])\n",
        "ypoints = np.array([0, 250])\n",
        "\n",
        "plt.plot(xpoints, ypoints)\n",
        "plt.show()"
      ],
      "metadata": {
        "colab": {
          "base_uri": "https://localhost:8080/",
          "height": 265
        },
        "id": "G8SIirCKqXxi",
        "outputId": "eb5cc3e4-2013-4481-be68-dbd80dc491f9"
      },
      "execution_count": 2,
      "outputs": [
        {
          "output_type": "display_data",
          "data": {
            "text/plain": [
              "<Figure size 432x288 with 1 Axes>"
            ],
            "image/png": "[encoded data removed]"
          },
          "metadata": {
            "needs_background": "light"
          }
        }
      ]
    },
    {
      "cell_type": "markdown",
      "source": [
        "\n",
        "Lang: Uzb\n",
        "#Pyplot\n",
        "Matplotlib yordam dasturlarining aksariyati pyplot submodul ostida joylashgan va odatda plt taxallusi ostida import qilinadi:"
      ],
      "metadata": {
        "id": "L6udxO68qvSd"
      }
    },
    {
      "cell_type": "code",
      "source": [
        "import matplotlib.pyplot as plt"
      ],
      "metadata": {
        "id": "-UxxMbY8qu1b"
      },
      "execution_count": 3,
      "outputs": []
    },
    {
      "cell_type": "markdown",
      "source": [
        "# Endi Pyplot paketini plt deb atash mumkin"
      ],
      "metadata": {
        "id": "SsqoPPe2q-oP"
      }
    },
    {
      "cell_type": "markdown",
      "source": [
        "#Masalan\n",
        "Diagrammada (0,0) pozitsiyadan (6,250) pozitsiyaga chiziq:"
      ],
      "metadata": {
        "id": "BKvY8nNIrNNB"
      }
    },
    {
      "cell_type": "code",
      "source": [
        "import matplotlib.pyplot as plt\n",
        "import numpy as np\n",
        "\n",
        "xpoints = np.array([0, 6])\n",
        "ypoints = np.array([0, 250])\n",
        "\n",
        "plt.plot(xpoints, ypoints)\n",
        "plt.show()"
      ],
      "metadata": {
        "colab": {
          "base_uri": "https://localhost:8080/",
          "height": 265
        },
        "id": "dWgKzrWCrYHb",
        "outputId": "02ff44cc-009b-4333-b0c4-e81323412340"
      },
      "execution_count": 4,
      "outputs": [
        {
          "output_type": "display_data",
          "data": {
            "text/plain": [
              "<Figure size 432x288 with 1 Axes>"
            ],
            "image/png": "[encoded data removed]"
          },
          "metadata": {
            "needs_background": "light"
          }
        }
      ]
    }
  ]
}