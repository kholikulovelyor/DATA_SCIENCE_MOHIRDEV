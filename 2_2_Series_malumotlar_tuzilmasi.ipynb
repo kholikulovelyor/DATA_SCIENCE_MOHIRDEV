{
  "nbformat": 4,
  "nbformat_minor": 0,
  "metadata": {
    "colab": {
      "provenance": [],
      "collapsed_sections": [],
      "authorship_tag": "ABX9TyPOyQr0CCT8MRI7/yA/5eFm",
      "include_colab_link": true
    },
    "kernelspec": {
      "name": "python3",
      "display_name": "Python 3"
    },
    "language_info": {
      "name": "python"
    }
  },
  "cells": [
    {
      "cell_type": "markdown",
      "metadata": {
        "id": "view-in-github",
        "colab_type": "text"
      },
      "source": [
        "<a href=\"https://colab.research.google.com/github/kholikulovelyor/Data-Darsliklari-uchun/blob/2-modul.-DATA-ANALYSIS-PANDAS-KUTUBXONASI/2_2_Series_malumotlar_tuzilmasi.ipynb\" target=\"_parent\"><img src=\"https://colab.research.google.com/assets/colab-badge.svg\" alt=\"Open In Colab\"/></a>"
      ]
    },
    {
      "cell_type": "markdown",
      "source": [
        "#**Data Science vz Suniy Intellekt Praktikum**"
      ],
      "metadata": {
        "id": "ae5JRorgqC-N"
      }
    },
    {
      "cell_type": "markdown",
      "source": [
        "Ma'lumotlar tahlili. Pandas kutubxonasi"
      ],
      "metadata": {
        "id": "R4l06ypkqYAZ"
      }
    },
    {
      "cell_type": "markdown",
      "source": [
        "2.2 Pandas kutubxonasi bilan tanishish"
      ],
      "metadata": {
        "id": "X0LtkLJYqk8S"
      }
    },
    {
      "cell_type": "code",
      "execution_count": null,
      "metadata": {
        "id": "-ZyRnUM5meoh"
      },
      "outputs": [],
      "source": [
        "import pandas as pd "
      ]
    },
    {
      "cell_type": "code",
      "source": [
        "import numpy as np"
      ],
      "metadata": {
        "id": "xlVALlcLq1vp"
      },
      "execution_count": null,
      "outputs": []
    },
    {
      "cell_type": "code",
      "source": [
        "from pandas import Series # series malumotlar tuzilmasi"
      ],
      "metadata": {
        "id": "EjF4m-kBra9J"
      },
      "execution_count": null,
      "outputs": []
    },
    {
      "cell_type": "code",
      "source": [
        "obj = Series([4, 5, 6, -6.5])"
      ],
      "metadata": {
        "id": "QEdng9HysbXK"
      },
      "execution_count": null,
      "outputs": []
    },
    {
      "cell_type": "code",
      "source": [
        "type(obj)"
      ],
      "metadata": {
        "colab": {
          "base_uri": "https://localhost:8080/"
        },
        "id": "cDtRM_pPsh_f",
        "outputId": "c6c97f7a-a180-4293-fcc7-c727f90eaa75"
      },
      "execution_count": null,
      "outputs": [
        {
          "output_type": "execute_result",
          "data": {
            "text/plain": [
              "pandas.core.series.Series"
            ]
          },
          "metadata": {},
          "execution_count": 7
        }
      ]
    },
    {
      "cell_type": "code",
      "source": [
        "print(obj) # print orqali obyekt ichidagi element va indexlarni ko'rish mumkin "
      ],
      "metadata": {
        "colab": {
          "base_uri": "https://localhost:8080/"
        },
        "id": "wH-5S-g2spNH",
        "outputId": "cc9fdff2-f6dc-44ae-d2fe-73cad27988d3"
      },
      "execution_count": null,
      "outputs": [
        {
          "output_type": "stream",
          "name": "stdout",
          "text": [
            "0    4.0\n",
            "1    5.0\n",
            "2    6.0\n",
            "3   -6.5\n",
            "dtype: float64\n"
          ]
        }
      ]
    },
    {
      "cell_type": "code",
      "source": [
        "obj.values # obyekt qiymatlarni ko'rish uchun vales methodidan foydalanamiz"
      ],
      "metadata": {
        "colab": {
          "base_uri": "https://localhost:8080/"
        },
        "id": "p0vSwsoNsxlZ",
        "outputId": "22ac3ae3-4fb0-4697-943d-782d3253dba4"
      },
      "execution_count": null,
      "outputs": [
        {
          "output_type": "execute_result",
          "data": {
            "text/plain": [
              "array([ 4. ,  5. ,  6. , -6.5])"
            ]
          },
          "metadata": {},
          "execution_count": 11
        }
      ]
    },
    {
      "cell_type": "code",
      "source": [
        "obj.index # index methodi orqali obyekt indexlarini ko'rishingiz mumkun"
      ],
      "metadata": {
        "colab": {
          "base_uri": "https://localhost:8080/"
        },
        "id": "KE4xslKFt8As",
        "outputId": "5dbacbaf-513c-4998-9201-049b6e0f52dd"
      },
      "execution_count": null,
      "outputs": [
        {
          "output_type": "execute_result",
          "data": {
            "text/plain": [
              "RangeIndex(start=0, stop=4, step=1)"
            ]
          },
          "metadata": {},
          "execution_count": 13
        }
      ]
    },
    {
      "cell_type": "code",
      "source": [
        "obj[0]"
      ],
      "metadata": {
        "colab": {
          "base_uri": "https://localhost:8080/"
        },
        "id": "FYTybH3CwJ9I",
        "outputId": "ae02ba48-9717-4f2d-fe03-e7011d1730c7"
      },
      "execution_count": null,
      "outputs": [
        {
          "output_type": "execute_result",
          "data": {
            "text/plain": [
              "4.0"
            ]
          },
          "metadata": {},
          "execution_count": 14
        }
      ]
    },
    {
      "cell_type": "code",
      "source": [
        "obj[1]"
      ],
      "metadata": {
        "colab": {
          "base_uri": "https://localhost:8080/"
        },
        "id": "rt0Adh5swKAH",
        "outputId": "7878dfeb-7366-4e01-b667-36a52867ec4a"
      },
      "execution_count": null,
      "outputs": [
        {
          "output_type": "execute_result",
          "data": {
            "text/plain": [
              "5.0"
            ]
          },
          "metadata": {},
          "execution_count": 15
        }
      ]
    },
    {
      "cell_type": "code",
      "source": [
        "obj[3] #Bu usul orqali obyektga index orqali murojat qilyapmiz"
      ],
      "metadata": {
        "colab": {
          "base_uri": "https://localhost:8080/"
        },
        "id": "1_KtPwwJwKDY",
        "outputId": "3b1b8752-fb38-4844-bc2a-b2a415071e28"
      },
      "execution_count": null,
      "outputs": [
        {
          "output_type": "execute_result",
          "data": {
            "text/plain": [
              "-6.5"
            ]
          },
          "metadata": {},
          "execution_count": 18
        }
      ]
    },
    {
      "cell_type": "code",
      "source": [
        "obj2=Series([6, 3, 2, 0], index=['a','b','c','d']) #Bu usul orqali obyektga o'zimiz index beramiz"
      ],
      "metadata": {
        "id": "lmbvgWuXwQck"
      },
      "execution_count": 81,
      "outputs": []
    },
    {
      "cell_type": "code",
      "source": [
        "print(obj2)"
      ],
      "metadata": {
        "colab": {
          "base_uri": "https://localhost:8080/"
        },
        "id": "78ucY64kxETc",
        "outputId": "eb530684-ecc7-4be9-8d35-03c266bce9ef"
      },
      "execution_count": null,
      "outputs": [
        {
          "output_type": "stream",
          "name": "stdout",
          "text": [
            "a    6\n",
            "b    3\n",
            "c    2\n",
            "d    0\n",
            "dtype: int64\n"
          ]
        }
      ]
    },
    {
      "cell_type": "code",
      "source": [
        "obj2.index"
      ],
      "metadata": {
        "colab": {
          "base_uri": "https://localhost:8080/"
        },
        "id": "XKPW6NH4xHnV",
        "outputId": "3d786d00-3d04-4366-9201-b1482268b004"
      },
      "execution_count": null,
      "outputs": [
        {
          "output_type": "execute_result",
          "data": {
            "text/plain": [
              "Index(['a', 'b', 'c', 'd'], dtype='object')"
            ]
          },
          "metadata": {},
          "execution_count": 23
        }
      ]
    },
    {
      "cell_type": "code",
      "source": [
        "obj2['a']"
      ],
      "metadata": {
        "colab": {
          "base_uri": "https://localhost:8080/"
        },
        "id": "tVP38rql4OiG",
        "outputId": "a7e6c7a8-be2d-4cb1-e534-bea01af7ef01"
      },
      "execution_count": null,
      "outputs": [
        {
          "output_type": "execute_result",
          "data": {
            "text/plain": [
              "6"
            ]
          },
          "metadata": {},
          "execution_count": 25
        }
      ]
    },
    {
      "cell_type": "markdown",
      "source": [
        "#**Amaliyot**"
      ],
      "metadata": {
        "id": "95_Hn8z741i8"
      }
    },
    {
      "cell_type": "code",
      "source": [
        "import pandas as pd"
      ],
      "metadata": {
        "id": "ljiNeYBe4Rl4"
      },
      "execution_count": null,
      "outputs": []
    },
    {
      "cell_type": "code",
      "source": [
        "import numpy as np"
      ],
      "metadata": {
        "id": "KnMtAjVL47h9"
      },
      "execution_count": null,
      "outputs": []
    },
    {
      "cell_type": "code",
      "source": [
        "from pandas import Series "
      ],
      "metadata": {
        "id": "aYrbU60g49cO"
      },
      "execution_count": null,
      "outputs": []
    },
    {
      "cell_type": "markdown",
      "source": [
        "Data Tuzish"
      ],
      "metadata": {
        "id": "JCFmkxzo5Cl4"
      }
    },
    {
      "cell_type": "code",
      "source": [
        "number01 = Series([1, 2, 3, 4, 5, 6, 7, 8, 9, 10, 11, 12, 13, 14, 15, 16, 17, 18, 19, 20])"
      ],
      "metadata": {
        "id": "IfpqTUc85Ay5"
      },
      "execution_count": 36,
      "outputs": []
    },
    {
      "cell_type": "code",
      "source": [
        "kursdoshlar_ismlari = Series(['Jahongir', 'Shodiyor', 'Amirbek', 'Zarifjon', 'Azimjon', 'Jasurbek','Yusufbek', 'Dilshodbek', 'Ramziddin',\n",
        "'Elyorbek', 'Amirxon', 'Berdiyor', 'Jamshid', 'Kamola', 'Kamron', 'Sholaziz', 'jahongirhon', 'Doston', 'Sardor', 'Tohir', 'Munisaxon'\n",
        "'Sarvinoz', 'Suyundik', 'Ulugbek', 'Diyorbek','Aziz'], index=[1, 2, 3, 4, 5, 6, 7, 8, 9, 10, 11, 12, 13, 14, 15, 16, 17, 18, 19, 20, 21, 22, 23, 24, 25])"
      ],
      "metadata": {
        "id": "IDNc7J4P5xpj"
      },
      "execution_count": 53,
      "outputs": []
    },
    {
      "cell_type": "code",
      "source": [
        "print(number01)"
      ],
      "metadata": {
        "colab": {
          "base_uri": "https://localhost:8080/"
        },
        "id": "BgJ_VEDz8Yk1",
        "outputId": "672a31b3-eb92-489a-c8e5-da258645e260"
      },
      "execution_count": 38,
      "outputs": [
        {
          "output_type": "stream",
          "name": "stdout",
          "text": [
            "0      1\n",
            "1      2\n",
            "2      3\n",
            "3      4\n",
            "4      5\n",
            "5      6\n",
            "6      7\n",
            "7      8\n",
            "8      9\n",
            "9     10\n",
            "10    11\n",
            "11    12\n",
            "12    13\n",
            "13    14\n",
            "14    15\n",
            "15    16\n",
            "16    17\n",
            "17    18\n",
            "18    19\n",
            "19    20\n",
            "dtype: int64\n"
          ]
        }
      ]
    },
    {
      "cell_type": "code",
      "source": [
        "number01.values"
      ],
      "metadata": {
        "colab": {
          "base_uri": "https://localhost:8080/"
        },
        "id": "yR84NrXh8icl",
        "outputId": "6d3c6ec0-b055-4498-98f7-b46093956082"
      },
      "execution_count": 43,
      "outputs": [
        {
          "output_type": "execute_result",
          "data": {
            "text/plain": [
              "array([ 1,  2,  3,  4,  5,  6,  7,  8,  9, 10, 11, 12, 13, 14, 15, 16, 17,\n",
              "       18, 19, 20])"
            ]
          },
          "metadata": {},
          "execution_count": 43
        }
      ]
    },
    {
      "cell_type": "code",
      "source": [
        "number01.index"
      ],
      "metadata": {
        "colab": {
          "base_uri": "https://localhost:8080/"
        },
        "id": "w3kxj3Jy8r1R",
        "outputId": "595e2528-04f2-4171-a67f-d07cb272b4fb"
      },
      "execution_count": 44,
      "outputs": [
        {
          "output_type": "execute_result",
          "data": {
            "text/plain": [
              "RangeIndex(start=0, stop=20, step=1)"
            ]
          },
          "metadata": {},
          "execution_count": 44
        }
      ]
    },
    {
      "cell_type": "code",
      "source": [
        "print(kursdoshlar_ismlari)"
      ],
      "metadata": {
        "colab": {
          "base_uri": "https://localhost:8080/"
        },
        "id": "WEHCQ2Me8wxO",
        "outputId": "fcb187e6-da56-4480-9265-778f31d1e974"
      },
      "execution_count": 54,
      "outputs": [
        {
          "output_type": "stream",
          "name": "stdout",
          "text": [
            "1              Jahongir\n",
            "2              Shodiyor\n",
            "3               Amirbek\n",
            "4              Zarifjon\n",
            "5               Azimjon\n",
            "6              Jasurbek\n",
            "7              Yusufbek\n",
            "8            Dilshodbek\n",
            "9             Ramziddin\n",
            "10             Elyorbek\n",
            "11              Amirxon\n",
            "12             Berdiyor\n",
            "13              Jamshid\n",
            "14               Kamola\n",
            "15               Kamron\n",
            "16             Sholaziz\n",
            "17          jahongirhon\n",
            "18               Doston\n",
            "19               Sardor\n",
            "20                Tohir\n",
            "21    MunisaxonSarvinoz\n",
            "22             Suyundik\n",
            "23              Ulugbek\n",
            "24             Diyorbek\n",
            "25                 Aziz\n",
            "dtype: object\n"
          ]
        }
      ]
    },
    {
      "cell_type": "code",
      "source": [
        "kursdoshlar_ismlari.values"
      ],
      "metadata": {
        "colab": {
          "base_uri": "https://localhost:8080/"
        },
        "id": "DGZin9HE862X",
        "outputId": "75dbbdfc-8667-4444-ca04-fb5a6ceea55e"
      },
      "execution_count": 55,
      "outputs": [
        {
          "output_type": "execute_result",
          "data": {
            "text/plain": [
              "array(['Jahongir', 'Shodiyor', 'Amirbek', 'Zarifjon', 'Azimjon',\n",
              "       'Jasurbek', 'Yusufbek', 'Dilshodbek', 'Ramziddin', 'Elyorbek',\n",
              "       'Amirxon', 'Berdiyor', 'Jamshid', 'Kamola', 'Kamron', 'Sholaziz',\n",
              "       'jahongirhon', 'Doston', 'Sardor', 'Tohir', 'MunisaxonSarvinoz',\n",
              "       'Suyundik', 'Ulugbek', 'Diyorbek', 'Aziz'], dtype=object)"
            ]
          },
          "metadata": {},
          "execution_count": 55
        }
      ]
    },
    {
      "cell_type": "code",
      "source": [
        "number01[number01>1]"
      ],
      "metadata": {
        "colab": {
          "base_uri": "https://localhost:8080/"
        },
        "id": "9B9iPKAx-xEE",
        "outputId": "84e28f07-fdf9-46e1-869a-0cd395a829a0"
      },
      "execution_count": 79,
      "outputs": [
        {
          "output_type": "execute_result",
          "data": {
            "text/plain": [
              "1      2\n",
              "2      3\n",
              "3      4\n",
              "4      5\n",
              "5      6\n",
              "6      7\n",
              "7      8\n",
              "8      9\n",
              "9     10\n",
              "10    11\n",
              "11    12\n",
              "12    13\n",
              "13    14\n",
              "14    15\n",
              "15    16\n",
              "16    17\n",
              "17    18\n",
              "18    19\n",
              "19    20\n",
              "dtype: int64"
            ]
          },
          "metadata": {},
          "execution_count": 79
        }
      ]
    },
    {
      "cell_type": "code",
      "source": [
        "kursdoshlar_ismlari[1]"
      ],
      "metadata": {
        "colab": {
          "base_uri": "https://localhost:8080/",
          "height": 35
        },
        "id": "m3fwuTBTD92-",
        "outputId": "47028e75-7fb9-4f7d-e0ba-2c41e803e34c"
      },
      "execution_count": 100,
      "outputs": [
        {
          "output_type": "execute_result",
          "data": {
            "text/plain": [
              "'Jahongir'"
            ],
            "application/vnd.google.colaboratory.intrinsic+json": {
              "type": "string"
            }
          },
          "metadata": {},
          "execution_count": 100
        }
      ]
    },
    {
      "cell_type": "code",
      "source": [
        "number01*2"
      ],
      "metadata": {
        "colab": {
          "base_uri": "https://localhost:8080/"
        },
        "id": "nsLkcWcRFu42",
        "outputId": "0475a1f7-de0b-46fb-9224-20948d6c47d6"
      },
      "execution_count": 89,
      "outputs": [
        {
          "output_type": "execute_result",
          "data": {
            "text/plain": [
              "0      2\n",
              "1      4\n",
              "2      6\n",
              "3      8\n",
              "4     10\n",
              "5     12\n",
              "6     14\n",
              "7     16\n",
              "8     18\n",
              "9     20\n",
              "10    22\n",
              "11    24\n",
              "12    26\n",
              "13    28\n",
              "14    30\n",
              "15    32\n",
              "16    34\n",
              "17    36\n",
              "18    38\n",
              "19    40\n",
              "dtype: int64"
            ]
          },
          "metadata": {},
          "execution_count": 89
        }
      ]
    },
    {
      "cell_type": "code",
      "source": [
        "np.exp(number01)"
      ],
      "metadata": {
        "colab": {
          "base_uri": "https://localhost:8080/"
        },
        "id": "FYXwd_SyGZ1d",
        "outputId": "7ad88aaf-8b5a-438a-a458-9bf7b116baaf"
      },
      "execution_count": 91,
      "outputs": [
        {
          "output_type": "execute_result",
          "data": {
            "text/plain": [
              "0     2.718282e+00\n",
              "1     7.389056e+00\n",
              "2     2.008554e+01\n",
              "3     5.459815e+01\n",
              "4     1.484132e+02\n",
              "5     4.034288e+02\n",
              "6     1.096633e+03\n",
              "7     2.980958e+03\n",
              "8     8.103084e+03\n",
              "9     2.202647e+04\n",
              "10    5.987414e+04\n",
              "11    1.627548e+05\n",
              "12    4.424134e+05\n",
              "13    1.202604e+06\n",
              "14    3.269017e+06\n",
              "15    8.886111e+06\n",
              "16    2.415495e+07\n",
              "17    6.565997e+07\n",
              "18    1.784823e+08\n",
              "19    4.851652e+08\n",
              "dtype: float64"
            ]
          },
          "metadata": {},
          "execution_count": 91
        }
      ]
    },
    {
      "cell_type": "code",
      "source": [],
      "metadata": {
        "id": "eVLlN5TGHqpB"
      },
      "execution_count": null,
      "outputs": []
    }
  ]
}