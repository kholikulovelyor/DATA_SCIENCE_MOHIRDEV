{
  "nbformat": 4,
  "nbformat_minor": 0,
  "metadata": {
    "colab": {
      "provenance": [],
      "authorship_tag": "ABX9TyPfP/FYzfAlN3Z8QraHRQgJ",
      "include_colab_link": true
    },
    "kernelspec": {
      "name": "python3",
      "display_name": "Python 3"
    },
    "language_info": {
      "name": "python"
    }
  },
  "cells": [
    {
      "cell_type": "markdown",
      "metadata": {
        "id": "view-in-github",
        "colab_type": "text"
      },
      "source": [
        "<a href=\"https://colab.research.google.com/github/kholikulovelyor/Data-Darsliklari-uchun/blob/2-modul-Data-Analysis-Numpy-kutubxonasi/Chiziqli_Algebra.ipynb\" target=\"_parent\"><img src=\"https://colab.research.google.com/assets/colab-badge.svg\" alt=\"Open In Colab\"/></a>"
      ]
    },
    {
      "cell_type": "code",
      "execution_count": null,
      "metadata": {
        "id": "T-PHfY6rLglV"
      },
      "outputs": [],
      "source": []
    },
    {
      "cell_type": "markdown",
      "source": [
        "#**Data Science va Sun'iy Itellekt Praktikum**\n",
        "Malumotlar tahlili. Numpy kutubxonasi\n",
        "\n",
        "Chiziqli Algebra"
      ],
      "metadata": {
        "id": "p4TyoWxrLtHQ"
      }
    },
    {
      "cell_type": "code",
      "source": [
        "import numpy as np"
      ],
      "metadata": {
        "id": "-WDNPDC0L-Ab"
      },
      "execution_count": 19,
      "outputs": []
    },
    {
      "cell_type": "code",
      "source": [
        "x = np.array([[1., 2., 3.], [4., 5., 6.]])\n",
        "x"
      ],
      "metadata": {
        "colab": {
          "base_uri": "https://localhost:8080/"
        },
        "id": "6fn20IeMMCz5",
        "outputId": "81d4be8c-9998-44b7-a56a-6e86c15b6afe"
      },
      "execution_count": 24,
      "outputs": [
        {
          "output_type": "execute_result",
          "data": {
            "text/plain": [
              "array([[1., 2., 3.],\n",
              "       [4., 5., 6.]])"
            ]
          },
          "metadata": {},
          "execution_count": 24
        }
      ]
    },
    {
      "cell_type": "markdown",
      "source": [
        "NumPy va Chiziqli Algebra haqida yaxshi maqola:[Maqola](https://towardsdatascience.com/introduction-to-linear-algebra-with-numpy-79adeb7bc060)"
      ],
      "metadata": {
        "id": "X1JYOixNUXiP"
      }
    },
    {
      "cell_type": "code",
      "source": [
        "y = np.array([[5., 5., 5.], [4., 4., 4.]])\n",
        "y"
      ],
      "metadata": {
        "colab": {
          "base_uri": "https://localhost:8080/"
        },
        "id": "iY6dszwBTmd4",
        "outputId": "9108a330-0b2f-46d0-eb20-c6fc599e4cd5"
      },
      "execution_count": 21,
      "outputs": [
        {
          "output_type": "execute_result",
          "data": {
            "text/plain": [
              "array([[5., 5., 5.],\n",
              "       [4., 4., 4.]])"
            ]
          },
          "metadata": {},
          "execution_count": 21
        }
      ]
    },
    {
      "cell_type": "code",
      "source": [
        "x+y # matritsani bir biriga qo'shish"
      ],
      "metadata": {
        "colab": {
          "base_uri": "https://localhost:8080/"
        },
        "id": "JWLthQHwUs3o",
        "outputId": "3a692e50-c32f-4d6d-859a-f5bf7903d930"
      },
      "execution_count": 26,
      "outputs": [
        {
          "output_type": "execute_result",
          "data": {
            "text/plain": [
              "array([[ 6.,  7.,  8.],\n",
              "       [ 8.,  9., 10.]])"
            ]
          },
          "metadata": {},
          "execution_count": 26
        }
      ]
    },
    {
      "cell_type": "code",
      "source": [
        "y-x # matritsani ayirish"
      ],
      "metadata": {
        "colab": {
          "base_uri": "https://localhost:8080/"
        },
        "id": "67qTfozcUzOT",
        "outputId": "10a998b4-b249-4c60-8bff-e88606993edb"
      },
      "execution_count": 28,
      "outputs": [
        {
          "output_type": "execute_result",
          "data": {
            "text/plain": [
              "array([[ 4.,  3.,  2.],\n",
              "       [ 0., -1., -2.]])"
            ]
          },
          "metadata": {},
          "execution_count": 28
        }
      ]
    },
    {
      "cell_type": "code",
      "source": [
        "x*5 # skalyar ko'paytirish ya'ni 5 arrayni har bir elementiga ko'paytiriladi\n",
        "y*5"
      ],
      "metadata": {
        "colab": {
          "base_uri": "https://localhost:8080/"
        },
        "id": "dcVMCoUlU1q6",
        "outputId": "787702b5-cdda-409b-ccd4-105bc930de46"
      },
      "execution_count": 31,
      "outputs": [
        {
          "output_type": "execute_result",
          "data": {
            "text/plain": [
              "array([[25., 25., 25.],\n",
              "       [20., 20., 20.]])"
            ]
          },
          "metadata": {},
          "execution_count": 31
        }
      ]
    },
    {
      "cell_type": "code",
      "source": [
        "x"
      ],
      "metadata": {
        "colab": {
          "base_uri": "https://localhost:8080/"
        },
        "id": "DovCzq_5VupB",
        "outputId": "077190dc-51da-4fd2-b826-67d0a4d44de0"
      },
      "execution_count": 32,
      "outputs": [
        {
          "output_type": "execute_result",
          "data": {
            "text/plain": [
              "array([[1., 2., 3.],\n",
              "       [4., 5., 6.]])"
            ]
          },
          "metadata": {},
          "execution_count": 32
        }
      ]
    },
    {
      "cell_type": "code",
      "source": [
        "y1 = np.array([[6., 23.], [1., -7.], [8., 9.]])"
      ],
      "metadata": {
        "id": "OcD_CxEEWVY5"
      },
      "execution_count": 35,
      "outputs": []
    },
    {
      "cell_type": "code",
      "source": [
        "y1"
      ],
      "metadata": {
        "colab": {
          "base_uri": "https://localhost:8080/"
        },
        "id": "R0BU1kCjWjJ-",
        "outputId": "75c452b1-18c7-49b3-9038-50189faa1a7d"
      },
      "execution_count": 36,
      "outputs": [
        {
          "output_type": "execute_result",
          "data": {
            "text/plain": [
              "array([[ 6., 23.],\n",
              "       [ 1., -7.],\n",
              "       [ 8.,  9.]])"
            ]
          },
          "metadata": {},
          "execution_count": 36
        }
      ]
    },
    {
      "cell_type": "code",
      "source": [
        "x.dot(y1) # x*y natijasini beradi"
      ],
      "metadata": {
        "colab": {
          "base_uri": "https://localhost:8080/"
        },
        "id": "3c05tweGWqhW",
        "outputId": "c2e62fbf-531b-4a18-e7ac-4b08210dbc61"
      },
      "execution_count": 38,
      "outputs": [
        {
          "output_type": "execute_result",
          "data": {
            "text/plain": [
              "array([[ 32.,  36.],\n",
              "       [ 77., 111.]])"
            ]
          },
          "metadata": {},
          "execution_count": 38
        }
      ]
    },
    {
      "cell_type": "markdown",
      "source": [
        "Tepadagi methodni boshqa usuli"
      ],
      "metadata": {
        "id": "Q5KCtFleXDor"
      }
    },
    {
      "cell_type": "code",
      "source": [
        "np.dot(x,y1)"
      ],
      "metadata": {
        "colab": {
          "base_uri": "https://localhost:8080/"
        },
        "id": "JglfbJzKWtUk",
        "outputId": "3c14f1c5-f9d8-477f-d0ba-8312a0807e15"
      },
      "execution_count": 40,
      "outputs": [
        {
          "output_type": "execute_result",
          "data": {
            "text/plain": [
              "array([[ 32.,  36.],\n",
              "       [ 77., 111.]])"
            ]
          },
          "metadata": {},
          "execution_count": 40
        }
      ]
    },
    {
      "cell_type": "code",
      "source": [
        "y1.dot(x) # 3*3 matritsa hosil bo'ldi"
      ],
      "metadata": {
        "colab": {
          "base_uri": "https://localhost:8080/"
        },
        "id": "-jox8n96XL9A",
        "outputId": "d37c3365-3eca-4a90-c35b-cf034f153ffb"
      },
      "execution_count": 43,
      "outputs": [
        {
          "output_type": "execute_result",
          "data": {
            "text/plain": [
              "array([[ 98., 127., 156.],\n",
              "       [-27., -33., -39.],\n",
              "       [ 44.,  61.,  78.]])"
            ]
          },
          "metadata": {},
          "execution_count": 43
        }
      ]
    },
    {
      "cell_type": "code",
      "source": [
        "# Linear Algebra \n",
        "from numpy.linalg import inv"
      ],
      "metadata": {
        "id": "tjgpzCKUXWtK"
      },
      "execution_count": 45,
      "outputs": []
    },
    {
      "cell_type": "code",
      "source": [],
      "metadata": {
        "id": "KwzRO-8dX40e"
      },
      "execution_count": null,
      "outputs": []
    }
  ]
}