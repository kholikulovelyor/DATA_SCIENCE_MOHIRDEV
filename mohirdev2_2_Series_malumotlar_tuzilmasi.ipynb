{
  "nbformat": 4,
  "nbformat_minor": 0,
  "metadata": {
    "colab": {
      "provenance": [],
      "collapsed_sections": [],
      "authorship_tag": "ABX9TyMEFKBNrOvsFfMlsjV+CbQy",
      "include_colab_link": true
    },
    "kernelspec": {
      "name": "python3",
      "display_name": "Python 3"
    },
    "language_info": {
      "name": "python"
    }
  },
  "cells": [
    {
      "cell_type": "markdown",
      "metadata": {
        "id": "view-in-github",
        "colab_type": "text"
      },
      "source": [
        "<a href=\"https://colab.research.google.com/github/kholikulovelyor/Data-Darsliklari-uchun/blob/2-modul.-DATA-ANALYSIS-PANDAS-KUTUBXONASI/mohirdev2_2_Series_malumotlar_tuzilmasi.ipynb\" target=\"_parent\"><img src=\"https://colab.research.google.com/assets/colab-badge.svg\" alt=\"Open In Colab\"/></a>"
      ]
    },
    {
      "cell_type": "markdown",
      "source": [
        "#**Data Science vz Suniy Intellekt Praktikum**"
      ],
      "metadata": {
        "id": "ae5JRorgqC-N"
      }
    },
    {
      "cell_type": "markdown",
      "source": [
        "Ma'lumotlar tahlili. Pandas kutubxonasi"
      ],
      "metadata": {
        "id": "R4l06ypkqYAZ"
      }
    },
    {
      "cell_type": "markdown",
      "source": [
        "2.2 Pandas kutubxonasi bilan tanishish"
      ],
      "metadata": {
        "id": "X0LtkLJYqk8S"
      }
    },
    {
      "cell_type": "code",
      "execution_count": 4,
      "metadata": {
        "id": "-ZyRnUM5meoh"
      },
      "outputs": [],
      "source": [
        "import pandas as pd "
      ]
    },
    {
      "cell_type": "code",
      "source": [
        "import numpy as np"
      ],
      "metadata": {
        "id": "xlVALlcLq1vp"
      },
      "execution_count": 5,
      "outputs": []
    },
    {
      "cell_type": "code",
      "source": [
        "from pandas import Series # series malumotlar tuzilmasi"
      ],
      "metadata": {
        "id": "EjF4m-kBra9J"
      },
      "execution_count": 6,
      "outputs": []
    },
    {
      "cell_type": "code",
      "source": [
        "obj = Series([4, 5, 6, -6.5])"
      ],
      "metadata": {
        "id": "QEdng9HysbXK"
      },
      "execution_count": 7,
      "outputs": []
    },
    {
      "cell_type": "code",
      "source": [
        "type(obj)"
      ],
      "metadata": {
        "colab": {
          "base_uri": "https://localhost:8080/"
        },
        "id": "cDtRM_pPsh_f",
        "outputId": "c101afb3-ff80-4d4d-f821-28e338a2e7cd"
      },
      "execution_count": 8,
      "outputs": [
        {
          "output_type": "execute_result",
          "data": {
            "text/plain": [
              "pandas.core.series.Series"
            ]
          },
          "metadata": {},
          "execution_count": 8
        }
      ]
    },
    {
      "cell_type": "code",
      "source": [
        "print(obj) # print orqali obyekt ichidagi element va indexlarni ko'rish mumkin "
      ],
      "metadata": {
        "colab": {
          "base_uri": "https://localhost:8080/"
        },
        "id": "wH-5S-g2spNH",
        "outputId": "3268a298-63a3-4ab3-888b-f8c3a8bb121a"
      },
      "execution_count": 9,
      "outputs": [
        {
          "output_type": "stream",
          "name": "stdout",
          "text": [
            "0    4.0\n",
            "1    5.0\n",
            "2    6.0\n",
            "3   -6.5\n",
            "dtype: float64\n"
          ]
        }
      ]
    },
    {
      "cell_type": "code",
      "source": [
        "obj.values # obyekt qiymatlarni ko'rish uchun vales methodidan foydalanamiz"
      ],
      "metadata": {
        "colab": {
          "base_uri": "https://localhost:8080/"
        },
        "id": "p0vSwsoNsxlZ",
        "outputId": "955cf318-3ee1-4f86-cf31-2b1b488292f4"
      },
      "execution_count": 10,
      "outputs": [
        {
          "output_type": "execute_result",
          "data": {
            "text/plain": [
              "array([ 4. ,  5. ,  6. , -6.5])"
            ]
          },
          "metadata": {},
          "execution_count": 10
        }
      ]
    },
    {
      "cell_type": "code",
      "source": [
        "obj.index # index methodi orqali obyekt indexlarini ko'rishingiz mumkun"
      ],
      "metadata": {
        "colab": {
          "base_uri": "https://localhost:8080/"
        },
        "id": "KE4xslKFt8As",
        "outputId": "33d150be-d0e7-4fd0-f9eb-ff846a47ddc8"
      },
      "execution_count": 11,
      "outputs": [
        {
          "output_type": "execute_result",
          "data": {
            "text/plain": [
              "RangeIndex(start=0, stop=4, step=1)"
            ]
          },
          "metadata": {},
          "execution_count": 11
        }
      ]
    },
    {
      "cell_type": "code",
      "source": [
        "obj[0]"
      ],
      "metadata": {
        "colab": {
          "base_uri": "https://localhost:8080/"
        },
        "id": "FYTybH3CwJ9I",
        "outputId": "3228d038-6554-4474-bbf0-2f87c0f2f58c"
      },
      "execution_count": 12,
      "outputs": [
        {
          "output_type": "execute_result",
          "data": {
            "text/plain": [
              "4.0"
            ]
          },
          "metadata": {},
          "execution_count": 12
        }
      ]
    },
    {
      "cell_type": "code",
      "source": [
        "obj[1]"
      ],
      "metadata": {
        "colab": {
          "base_uri": "https://localhost:8080/"
        },
        "id": "rt0Adh5swKAH",
        "outputId": "3d6a74e9-bf39-416a-cb7d-671a049807ad"
      },
      "execution_count": 13,
      "outputs": [
        {
          "output_type": "execute_result",
          "data": {
            "text/plain": [
              "5.0"
            ]
          },
          "metadata": {},
          "execution_count": 13
        }
      ]
    },
    {
      "cell_type": "code",
      "source": [
        "obj[3] #Bu usul orqali obyektga index orqali murojat qilyapmiz"
      ],
      "metadata": {
        "colab": {
          "base_uri": "https://localhost:8080/"
        },
        "id": "1_KtPwwJwKDY",
        "outputId": "55e42265-3799-46a6-f475-0376aed7a5fe"
      },
      "execution_count": 14,
      "outputs": [
        {
          "output_type": "execute_result",
          "data": {
            "text/plain": [
              "-6.5"
            ]
          },
          "metadata": {},
          "execution_count": 14
        }
      ]
    },
    {
      "cell_type": "code",
      "source": [
        "obj2=Series([6, 3, 2, 0], index=['a','b','c','d']) #Bu usul orqali obyektga o'zimiz index beramiz"
      ],
      "metadata": {
        "id": "lmbvgWuXwQck"
      },
      "execution_count": 15,
      "outputs": []
    },
    {
      "cell_type": "code",
      "source": [
        "print(obj2)"
      ],
      "metadata": {
        "colab": {
          "base_uri": "https://localhost:8080/"
        },
        "id": "78ucY64kxETc",
        "outputId": "85893f2f-3fdd-4aca-bacf-6d6c2c2c9583"
      },
      "execution_count": 16,
      "outputs": [
        {
          "output_type": "stream",
          "name": "stdout",
          "text": [
            "a    6\n",
            "b    3\n",
            "c    2\n",
            "d    0\n",
            "dtype: int64\n"
          ]
        }
      ]
    },
    {
      "cell_type": "code",
      "source": [
        "obj2.index"
      ],
      "metadata": {
        "colab": {
          "base_uri": "https://localhost:8080/"
        },
        "id": "XKPW6NH4xHnV",
        "outputId": "48092628-f316-42b7-ab5a-7d2c9013b5b6"
      },
      "execution_count": 17,
      "outputs": [
        {
          "output_type": "execute_result",
          "data": {
            "text/plain": [
              "Index(['a', 'b', 'c', 'd'], dtype='object')"
            ]
          },
          "metadata": {},
          "execution_count": 17
        }
      ]
    },
    {
      "cell_type": "code",
      "source": [
        "obj2['a']"
      ],
      "metadata": {
        "colab": {
          "base_uri": "https://localhost:8080/"
        },
        "id": "tVP38rql4OiG",
        "outputId": "b4d8f5ee-3a67-49ef-cbe2-15ba13cf9eac"
      },
      "execution_count": 18,
      "outputs": [
        {
          "output_type": "execute_result",
          "data": {
            "text/plain": [
              "6"
            ]
          },
          "metadata": {},
          "execution_count": 18
        }
      ]
    },
    {
      "cell_type": "code",
      "source": [
        "cars_dict = {'Malibu':4000, 'Lacetti':2000, 'Toyota':4500, 'Mazda':52000, 'Honda':38000}"
      ],
      "metadata": {
        "id": "YelFU6qP0Arm"
      },
      "execution_count": 19,
      "outputs": []
    },
    {
      "cell_type": "code",
      "source": [
        "type(cars_dict)"
      ],
      "metadata": {
        "colab": {
          "base_uri": "https://localhost:8080/"
        },
        "id": "a2JQdIFm0q-8",
        "outputId": "d90e91fa-def5-48d7-eb19-0ec39306d9e1"
      },
      "execution_count": 20,
      "outputs": [
        {
          "output_type": "execute_result",
          "data": {
            "text/plain": [
              "dict"
            ]
          },
          "metadata": {},
          "execution_count": 20
        }
      ]
    },
    {
      "cell_type": "code",
      "source": [
        "cars1 = Series(cars_dict)"
      ],
      "metadata": {
        "id": "K6y7jeX000K_"
      },
      "execution_count": 21,
      "outputs": []
    },
    {
      "cell_type": "code",
      "source": [
        "cars1"
      ],
      "metadata": {
        "colab": {
          "base_uri": "https://localhost:8080/"
        },
        "id": "3WkuRh6e06nZ",
        "outputId": "d250e21b-0b14-4804-8641-46607c4e8a03"
      },
      "execution_count": 22,
      "outputs": [
        {
          "output_type": "execute_result",
          "data": {
            "text/plain": [
              "Malibu      4000\n",
              "Lacetti     2000\n",
              "Toyota      4500\n",
              "Mazda      52000\n",
              "Honda      38000\n",
              "dtype: int64"
            ]
          },
          "metadata": {},
          "execution_count": 22
        }
      ]
    },
    {
      "cell_type": "code",
      "source": [
        "type(cars1)"
      ],
      "metadata": {
        "colab": {
          "base_uri": "https://localhost:8080/"
        },
        "id": "AtfdNgRi2lm4",
        "outputId": "d7a6905d-7e08-460c-82a6-171220df8c00"
      },
      "execution_count": 23,
      "outputs": [
        {
          "output_type": "execute_result",
          "data": {
            "text/plain": [
              "pandas.core.series.Series"
            ]
          },
          "metadata": {},
          "execution_count": 23
        }
      ]
    },
    {
      "cell_type": "code",
      "source": [
        "cars_dict"
      ],
      "metadata": {
        "colab": {
          "base_uri": "https://localhost:8080/"
        },
        "id": "RipSnL6w4zZi",
        "outputId": "d7b27f43-2310-4628-b198-c1879d0ff581"
      },
      "execution_count": 24,
      "outputs": [
        {
          "output_type": "execute_result",
          "data": {
            "text/plain": [
              "{'Malibu': 4000,\n",
              " 'Lacetti': 2000,\n",
              " 'Toyota': 4500,\n",
              " 'Mazda': 52000,\n",
              " 'Honda': 38000}"
            ]
          },
          "metadata": {},
          "execution_count": 24
        }
      ]
    },
    {
      "cell_type": "code",
      "source": [
        "models = ['Honda', 'Mazda', 'Lacetti', 'Jaguar', 'Malibu', 'Toyota', 'BMW', 'Mercedes']"
      ],
      "metadata": {
        "id": "xZefqqxY41Vj"
      },
      "execution_count": 25,
      "outputs": []
    },
    {
      "cell_type": "code",
      "source": [
        "cars2 = Series(cars_dict, index=models)"
      ],
      "metadata": {
        "id": "ebi_5NxQ5ITD"
      },
      "execution_count": 26,
      "outputs": []
    },
    {
      "cell_type": "code",
      "source": [
        "cars2"
      ],
      "metadata": {
        "colab": {
          "base_uri": "https://localhost:8080/"
        },
        "id": "VqKzTWax5QeX",
        "outputId": "a8ae6647-85d6-4e94-9cf6-c9f67fb9f5b1"
      },
      "execution_count": 27,
      "outputs": [
        {
          "output_type": "execute_result",
          "data": {
            "text/plain": [
              "Honda       38000.0\n",
              "Mazda       52000.0\n",
              "Lacetti      2000.0\n",
              "Jaguar          NaN\n",
              "Malibu       4000.0\n",
              "Toyota       4500.0\n",
              "BMW             NaN\n",
              "Mercedes        NaN\n",
              "dtype: float64"
            ]
          },
          "metadata": {},
          "execution_count": 27
        }
      ]
    },
    {
      "cell_type": "code",
      "source": [
        "cars2.isnull() # isnull methodi har bir qiymat ko'rib chiqib element mavjud bo'lsa false yoki mavjud bo'lmasa True qaytaradi"
      ],
      "metadata": {
        "colab": {
          "base_uri": "https://localhost:8080/"
        },
        "id": "jQtB9D4gUWEH",
        "outputId": "55522367-02d7-47c3-94f5-2b5d2320da0f"
      },
      "execution_count": 35,
      "outputs": [
        {
          "output_type": "execute_result",
          "data": {
            "text/plain": [
              "Honda       False\n",
              "Mazda       False\n",
              "Lacetti     False\n",
              "Jaguar       True\n",
              "Malibu      False\n",
              "Toyota      False\n",
              "BMW          True\n",
              "Mercedes     True\n",
              "dtype: bool"
            ]
          },
          "metadata": {},
          "execution_count": 35
        }
      ]
    },
    {
      "cell_type": "code",
      "source": [
        "cars2.notnull() # notnull methodi obyekt elementini ko'radi va 0 ga teng bo'lmasa True qaytaradi yoki teng bo'lsamasa False qaytaradi"
      ],
      "metadata": {
        "colab": {
          "base_uri": "https://localhost:8080/"
        },
        "id": "Alg0DBvhlRIB",
        "outputId": "41189eb7-a463-40a8-953b-174840f86348"
      },
      "execution_count": 37,
      "outputs": [
        {
          "output_type": "execute_result",
          "data": {
            "text/plain": [
              "Honda        True\n",
              "Mazda        True\n",
              "Lacetti      True\n",
              "Jaguar      False\n",
              "Malibu       True\n",
              "Toyota       True\n",
              "BMW         False\n",
              "Mercedes    False\n",
              "dtype: bool"
            ]
          },
          "metadata": {},
          "execution_count": 37
        }
      ]
    },
    {
      "cell_type": "code",
      "source": [
        "cars2"
      ],
      "metadata": {
        "colab": {
          "base_uri": "https://localhost:8080/"
        },
        "id": "qgVHy7kTl2qY",
        "outputId": "0fb2dae4-c6cb-4d81-df18-06db760d86d8"
      },
      "execution_count": 38,
      "outputs": [
        {
          "output_type": "execute_result",
          "data": {
            "text/plain": [
              "Honda       38000.0\n",
              "Mazda       52000.0\n",
              "Lacetti      2000.0\n",
              "Jaguar          NaN\n",
              "Malibu       4000.0\n",
              "Toyota       4500.0\n",
              "BMW             NaN\n",
              "Mercedes        NaN\n",
              "dtype: float64"
            ]
          },
          "metadata": {},
          "execution_count": 38
        }
      ]
    },
    {
      "cell_type": "code",
      "source": [
        "cars1"
      ],
      "metadata": {
        "colab": {
          "base_uri": "https://localhost:8080/"
        },
        "id": "oj7cn2d4l3p3",
        "outputId": "6d9a18b4-aa7d-4d0a-a4e8-ef8b74f7968b"
      },
      "execution_count": 39,
      "outputs": [
        {
          "output_type": "execute_result",
          "data": {
            "text/plain": [
              "Malibu      4000\n",
              "Lacetti     2000\n",
              "Toyota      4500\n",
              "Mazda      52000\n",
              "Honda      38000\n",
              "dtype: int64"
            ]
          },
          "metadata": {},
          "execution_count": 39
        }
      ]
    },
    {
      "cell_type": "code",
      "source": [
        "cars1+cars2 # obyekt indexlarini qo'shadi"
      ],
      "metadata": {
        "colab": {
          "base_uri": "https://localhost:8080/"
        },
        "id": "TYEx41gwmDpq",
        "outputId": "b4f39b7b-7e72-406e-a9e7-e4ecbd434b68"
      },
      "execution_count": 41,
      "outputs": [
        {
          "output_type": "execute_result",
          "data": {
            "text/plain": [
              "BMW              NaN\n",
              "Honda        76000.0\n",
              "Jaguar           NaN\n",
              "Lacetti       4000.0\n",
              "Malibu        8000.0\n",
              "Mazda       104000.0\n",
              "Mercedes         NaN\n",
              "Toyota        9000.0\n",
              "dtype: float64"
            ]
          },
          "metadata": {},
          "execution_count": 41
        }
      ]
    },
    {
      "cell_type": "code",
      "source": [
        "cars2.name = 'Avtosalon'"
      ],
      "metadata": {
        "id": "pL5VH0zGmbT7"
      },
      "execution_count": 44,
      "outputs": []
    },
    {
      "cell_type": "code",
      "source": [
        "cars2.index.name = 'Modellar'"
      ],
      "metadata": {
        "id": "3FqIMWJPmkxA"
      },
      "execution_count": 43,
      "outputs": []
    },
    {
      "cell_type": "code",
      "source": [
        "cars2"
      ],
      "metadata": {
        "colab": {
          "base_uri": "https://localhost:8080/"
        },
        "id": "fTNymwkimqyo",
        "outputId": "35d00201-0b7e-42e3-db96-24a3b3c9dd43"
      },
      "execution_count": 45,
      "outputs": [
        {
          "output_type": "execute_result",
          "data": {
            "text/plain": [
              "Modellar\n",
              "Honda       38000.0\n",
              "Mazda       52000.0\n",
              "Lacetti      2000.0\n",
              "Jaguar          NaN\n",
              "Malibu       4000.0\n",
              "Toyota       4500.0\n",
              "BMW             NaN\n",
              "Mercedes        NaN\n",
              "Name: Avtosalon, dtype: float64"
            ]
          },
          "metadata": {},
          "execution_count": 45
        }
      ]
    }
  ]
}