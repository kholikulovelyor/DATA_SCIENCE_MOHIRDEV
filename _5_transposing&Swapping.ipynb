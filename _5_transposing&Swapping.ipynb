{
  "nbformat": 4,
  "nbformat_minor": 0,
  "metadata": {
    "colab": {
      "provenance": [],
      "authorship_tag": "ABX9TyOC5yq5WwtnCHT4o5q9qjBI",
      "include_colab_link": true
    },
    "kernelspec": {
      "name": "python3",
      "display_name": "Python 3"
    },
    "language_info": {
      "name": "python"
    }
  },
  "cells": [
    {
      "cell_type": "markdown",
      "metadata": {
        "id": "view-in-github",
        "colab_type": "text"
      },
      "source": [
        "<a href=\"https://colab.research.google.com/github/kholikulovelyor/Data-Darsliklari-uchun/blob/main/_5_transposing%26Swapping.ipynb\" target=\"_parent\"><img src=\"https://colab.research.google.com/assets/colab-badge.svg\" alt=\"Open In Colab\"/></a>"
      ]
    },
    {
      "cell_type": "code",
      "execution_count": null,
      "metadata": {
        "id": "coqbOdIZ1Wbw"
      },
      "outputs": [],
      "source": []
    },
    {
      "cell_type": "markdown",
      "source": [
        "#**Data Science va Sun`iy intellekt praktikum**"
      ],
      "metadata": {
        "id": "LxK3sBXg1kL-"
      }
    },
    {
      "cell_type": "markdown",
      "source": [
        "Ma`lumotlar tahlili\n",
        "2.1. Numpy kutubxonasi bilan ishlash"
      ],
      "metadata": {
        "id": "BUwTnYb11t_t"
      }
    },
    {
      "cell_type": "code",
      "source": [
        "import numpy as np"
      ],
      "metadata": {
        "id": "2jSv_Qt31qah"
      },
      "execution_count": null,
      "outputs": []
    },
    {
      "cell_type": "markdown",
      "source": [
        "2.1.1. N-O'lchamli massiv(array)larga ishlov berish.\n",
        "Massivlarning pozitsiyasini ko'chirish va `Transpose` va o'qlar o'rnini almashtirish `Swapping axes`"
      ],
      "metadata": {
        "id": "dXkeCJ3t2Arp"
      }
    },
    {
      "cell_type": "markdown",
      "source": [
        "#reshape methodi "
      ],
      "metadata": {
        "id": "eU5qdIIn3m8K"
      }
    },
    {
      "cell_type": "code",
      "source": [
        "A = np.arange(6).reshape(3, 2) # A massiv: Elemtlari 0-6 gacha, shape (3, 2)\n",
        "A"
      ],
      "metadata": {
        "colab": {
          "base_uri": "https://localhost:8080/"
        },
        "id": "MMxXiuiK182t",
        "outputId": "7b749bf7-ab19-4604-d561-fb2dc57d3d6c"
      },
      "execution_count": null,
      "outputs": [
        {
          "output_type": "execute_result",
          "data": {
            "text/plain": [
              "array([[0, 1],\n",
              "       [2, 3],\n",
              "       [4, 5]])"
            ]
          },
          "metadata": {},
          "execution_count": 4
        }
      ]
    },
    {
      "cell_type": "markdown",
      "source": [
        "#`Transpose`"
      ],
      "metadata": {
        "id": "d7OndgMC4cdl"
      }
    },
    {
      "cell_type": "code",
      "source": [
        "A.T # A massivning Transpose ko`rinishini beradi "
      ],
      "metadata": {
        "colab": {
          "base_uri": "https://localhost:8080/"
        },
        "id": "umN4pa5M3w_-",
        "outputId": "d9ba8eb8-9477-4d49-9bbc-55e1153fc94a"
      },
      "execution_count": null,
      "outputs": [
        {
          "output_type": "execute_result",
          "data": {
            "text/plain": [
              "array([[0, 2, 4],\n",
              "       [1, 3, 5]])"
            ]
          },
          "metadata": {},
          "execution_count": 5
        }
      ]
    },
    {
      "cell_type": "markdown",
      "source": [
        "#`Swapping axes`"
      ],
      "metadata": {
        "id": "ZnHW_yLP5R-y"
      }
    },
    {
      "cell_type": "code",
      "source": [
        "A.swapaxes(1, 0) # A massivning Transpose ko'rinishi beradi "
      ],
      "metadata": {
        "colab": {
          "base_uri": "https://localhost:8080/"
        },
        "id": "SAvB-mla6KmI",
        "outputId": "afa62c7b-c76f-4af7-bf29-2825eb494c49"
      },
      "execution_count": null,
      "outputs": [
        {
          "output_type": "execute_result",
          "data": {
            "text/plain": [
              "array([[0, 2, 4],\n",
              "       [1, 3, 5]])"
            ]
          },
          "metadata": {},
          "execution_count": 7
        }
      ]
    },
    {
      "cell_type": "markdown",
      "source": [
        "#Transposening ishlatilinishiga bir misol AA^T\n",
        "\n",
        "\n",
        "\n",
        "\n",
        "\n",
        "\n"
      ],
      "metadata": {
        "id": "XA7uX-9i8Vjn"
      }
    },
    {
      "cell_type": "code",
      "source": [
        "A"
      ],
      "metadata": {
        "colab": {
          "base_uri": "https://localhost:8080/"
        },
        "id": "nGZWYNUn7z8g",
        "outputId": "90dc6077-ad0d-45fa-d88f-fa227b49d06b"
      },
      "execution_count": null,
      "outputs": [
        {
          "output_type": "execute_result",
          "data": {
            "text/plain": [
              "array([[0, 1],\n",
              "       [2, 3],\n",
              "       [4, 5]])"
            ]
          },
          "metadata": {},
          "execution_count": 8
        }
      ]
    },
    {
      "cell_type": "code",
      "source": [
        "np.dot(A, A.T) # AA^T hosil bo'lgan massiv "
      ],
      "metadata": {
        "colab": {
          "base_uri": "https://localhost:8080/"
        },
        "id": "U3POYvhm82Ga",
        "outputId": "2b40ade5-2d04-4b70-b605-a3af8d2c3e85"
      },
      "execution_count": null,
      "outputs": [
        {
          "output_type": "execute_result",
          "data": {
            "text/plain": [
              "array([[ 1,  3,  5],\n",
              "       [ 3, 13, 23],\n",
              "       [ 5, 23, 41]])"
            ]
          },
          "metadata": {},
          "execution_count": 10
        }
      ]
    },
    {
      "cell_type": "code",
      "source": [],
      "metadata": {
        "id": "qmi8amm39GuU"
      },
      "execution_count": null,
      "outputs": []
    }
  ]
}