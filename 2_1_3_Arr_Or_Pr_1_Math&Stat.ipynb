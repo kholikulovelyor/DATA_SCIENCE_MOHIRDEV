{
  "nbformat": 4,
  "nbformat_minor": 0,
  "metadata": {
    "colab": {
      "provenance": [],
      "authorship_tag": "ABX9TyOAZ2JFvsCiGs8zFIotvCXm",
      "include_colab_link": true
    },
    "kernelspec": {
      "name": "python3",
      "display_name": "Python 3"
    },
    "language_info": {
      "name": "python"
    }
  },
  "cells": [
    {
      "cell_type": "markdown",
      "metadata": {
        "id": "view-in-github",
        "colab_type": "text"
      },
      "source": [
        "<a href=\"https://colab.research.google.com/github/kholikulovelyor/Data-Darsliklari-uchun/blob/main/2_1_3_Arr_Or_Pr_1_Math%26Stat.ipynb\" target=\"_parent\"><img src=\"https://colab.research.google.com/assets/colab-badge.svg\" alt=\"Open In Colab\"/></a>"
      ]
    },
    {
      "cell_type": "markdown",
      "source": [
        "#**Mohirdev**\n",
        "#Data Science va Suniy intellekt Praktikum\n",
        "#Ma'lumotlar tahlili\n",
        "#Mavzu: Matematik va Statistik amallar."
      ],
      "metadata": {
        "id": "OTNqHQsx-q-6"
      }
    },
    {
      "cell_type": "code",
      "execution_count": 3,
      "metadata": {
        "id": "8j32tZk6-Z-Y"
      },
      "outputs": [],
      "source": [
        "import numpy as np"
      ]
    },
    {
      "cell_type": "markdown",
      "source": [
        "2.1.3 Massivga yo'naltirilgan dasturlash"
      ],
      "metadata": {
        "id": "jJtxoFEV_j9C"
      }
    },
    {
      "cell_type": "markdown",
      "source": [
        "Matematik Statistik amallar qo'llash"
      ],
      "metadata": {
        "id": "QRi58auZ_pxB"
      }
    },
    {
      "cell_type": "code",
      "source": [
        "#data\n",
        "arr = np.random.randn(5,4)  # (5, 4) o'lchovli massiv (random)\n",
        "arr "
      ],
      "metadata": {
        "colab": {
          "base_uri": "https://localhost:8080/"
        },
        "id": "rSaJB8CR_aJg",
        "outputId": "f8ed30cd-1bd8-40c6-814e-36b6d0d84ef6"
      },
      "execution_count": 4,
      "outputs": [
        {
          "output_type": "execute_result",
          "data": {
            "text/plain": [
              "array([[-0.28457325,  1.34455078, -0.66999342,  0.88903879],\n",
              "       [-0.23373448, -0.78941381, -1.03809739,  0.09464545],\n",
              "       [-0.60161741, -1.65311075,  0.6122492 ,  2.17717428],\n",
              "       [ 1.76375579, -0.1398543 , -1.38678613, -0.65088361],\n",
              "       [ 0.35352491, -1.87168229,  0.9739133 ,  1.07778745]])"
            ]
          },
          "metadata": {},
          "execution_count": 4
        }
      ]
    },
    {
      "cell_type": "markdown",
      "source": [
        "#**`sum` methodi**\n",
        "#Tavsif\n",
        "\n",
        "English:\n",
        ">The Python *sum*() function calculates the total of all numerical values in an \n",
        "iterable. sum() works with both integers and floating-point numbers. The sum() function has an optional parameter to add a number to the total. alculating the sum of a list is a common operation in Python\n",
        "\n",
        "Uzbek:\n",
        ">Barcha elementlarni yig'indisini hisoblaydi"
      ],
      "metadata": {
        "id": "LXVun4oBBqu0"
      }
    },
    {
      "cell_type": "markdown",
      "source": [
        "ikkita bir xil usul"
      ],
      "metadata": {
        "id": "O3Mvn4Dzb86R"
      }
    },
    {
      "cell_type": "code",
      "source": [
        "arr.sum() # arr ning barcha elementlarni yig'indisini hisoblab beradi"
      ],
      "metadata": {
        "colab": {
          "base_uri": "https://localhost:8080/"
        },
        "id": "LfSfZbTHBnLe",
        "outputId": "41e183c9-ddd9-42b1-b2da-d4d7a1b95d77"
      },
      "execution_count": 5,
      "outputs": [
        {
          "output_type": "execute_result",
          "data": {
            "text/plain": [
              "-0.03310689943672718"
            ]
          },
          "metadata": {},
          "execution_count": 5
        }
      ]
    },
    {
      "cell_type": "code",
      "source": [
        "np.sum(arr) # arr ning barcha elementlarni yig'indisini hisoblab beradi"
      ],
      "metadata": {
        "id": "JePG_mM7bdLz"
      },
      "execution_count": 5,
      "outputs": []
    },
    {
      "cell_type": "code",
      "source": [
        "arr"
      ],
      "metadata": {
        "colab": {
          "base_uri": "https://localhost:8080/"
        },
        "id": "F1ldOw4dc45I",
        "outputId": "ab17829b-1306-407c-e3c2-af43621a70b7"
      },
      "execution_count": 7,
      "outputs": [
        {
          "output_type": "execute_result",
          "data": {
            "text/plain": [
              "array([[-0.28457325,  1.34455078, -0.66999342,  0.88903879],\n",
              "       [-0.23373448, -0.78941381, -1.03809739,  0.09464545],\n",
              "       [-0.60161741, -1.65311075,  0.6122492 ,  2.17717428],\n",
              "       [ 1.76375579, -0.1398543 , -1.38678613, -0.65088361],\n",
              "       [ 0.35352491, -1.87168229,  0.9739133 ,  1.07778745]])"
            ]
          },
          "metadata": {},
          "execution_count": 7
        }
      ]
    },
    {
      "cell_type": "code",
      "source": [
        "arr.sum(axis=1) # qator yi'gindi\n",
        "#Axis meaning in uzbek language (o'qi)\n"
      ],
      "metadata": {
        "colab": {
          "base_uri": "https://localhost:8080/"
        },
        "id": "_ccEjmn2clPe",
        "outputId": "1b3a076a-5d37-407d-cba9-e9ecbff2df24"
      },
      "execution_count": 8,
      "outputs": [
        {
          "output_type": "execute_result",
          "data": {
            "text/plain": [
              "array([ 1.27902291, -1.96660022,  0.53469531, -0.41376826,  0.53354337])"
            ]
          },
          "metadata": {},
          "execution_count": 8
        }
      ]
    },
    {
      "cell_type": "code",
      "source": [
        "arr.sum(axis=0) # ustun yi'gindi"
      ],
      "metadata": {
        "colab": {
          "base_uri": "https://localhost:8080/"
        },
        "id": "3WANdTE9cy4f",
        "outputId": "34dcda42-a1e3-486d-fb62-dd881fe0179a"
      },
      "execution_count": 9,
      "outputs": [
        {
          "output_type": "execute_result",
          "data": {
            "text/plain": [
              "array([ 0.99735556, -3.10951038, -1.50871445,  3.58776237])"
            ]
          },
          "metadata": {},
          "execution_count": 9
        }
      ]
    },
    {
      "cell_type": "markdown",
      "source": [
        "#**mean methodi**\n",
        "#Tavsif\n",
        "\n",
        "English\n",
        ">mean() function can be used to calculate mean/average of a given list of numbers. It returns mean of the data set passed as parameters. Arithmetic mean is the sum of data divided by the number of data-points. It is a measure of the central location of data in a set of values which vary in range\n",
        "\n",
        "Uzbek\n",
        ">Barcha elemtlarning yig'indisini o'sha elemtlarning soniga  nisbati.\n",
        "\n",
        "\n"
      ],
      "metadata": {
        "id": "eukK9SoJg5Kj"
      }
    },
    {
      "cell_type": "code",
      "source": [
        "# Sodda Ma'lumot \n",
        "data = np.arange(11) # 0 ~ 5 gacha bo'lgan elementlarda tashkil topgan massiv\n",
        "data"
      ],
      "metadata": {
        "colab": {
          "base_uri": "https://localhost:8080/"
        },
        "id": "p_axEMd9gedh",
        "outputId": "5551bdd4-0ef5-414b-ee82-1f046a8f0e92"
      },
      "execution_count": 15,
      "outputs": [
        {
          "output_type": "execute_result",
          "data": {
            "text/plain": [
              "array([ 0,  1,  2,  3,  4,  5,  6,  7,  8,  9, 10])"
            ]
          },
          "metadata": {},
          "execution_count": 15
        }
      ]
    },
    {
      "cell_type": "code",
      "source": [
        "mean = np.sum(data)/len(data)\n",
        "mean"
      ],
      "metadata": {
        "colab": {
          "base_uri": "https://localhost:8080/"
        },
        "id": "YLtMhw85kU1I",
        "outputId": "ae3c0790-a0f3-4ea1-81c9-219f2b69c69e"
      },
      "execution_count": 18,
      "outputs": [
        {
          "output_type": "execute_result",
          "data": {
            "text/plain": [
              "5.0"
            ]
          },
          "metadata": {},
          "execution_count": 18
        }
      ]
    },
    {
      "cell_type": "code",
      "source": [
        "#ikkinchi usuli \n",
        "np.mean(data)"
      ],
      "metadata": {
        "colab": {
          "base_uri": "https://localhost:8080/"
        },
        "id": "YJwYV-VviDi6",
        "outputId": "fab770b8-ecc7-403c-cbca-f1cdfcc03f31"
      },
      "execution_count": 17,
      "outputs": [
        {
          "output_type": "execute_result",
          "data": {
            "text/plain": [
              "5.0"
            ]
          },
          "metadata": {},
          "execution_count": 17
        }
      ]
    },
    {
      "cell_type": "code",
      "source": [
        "data.mean()"
      ],
      "metadata": {
        "colab": {
          "base_uri": "https://localhost:8080/"
        },
        "id": "qwSBgDG-hzfv",
        "outputId": "f84d1271-ce29-41d7-e51c-a68b9acf0147"
      },
      "execution_count": 16,
      "outputs": [
        {
          "output_type": "execute_result",
          "data": {
            "text/plain": [
              "5.0"
            ]
          },
          "metadata": {},
          "execution_count": 16
        }
      ]
    },
    {
      "cell_type": "code",
      "source": [
        "arr"
      ],
      "metadata": {
        "colab": {
          "base_uri": "https://localhost:8080/"
        },
        "id": "FNkSXzTriL6u",
        "outputId": "5bdc6d1f-eb10-48e8-8580-2860aa0a85ae"
      },
      "execution_count": 19,
      "outputs": [
        {
          "output_type": "execute_result",
          "data": {
            "text/plain": [
              "array([[-0.28457325,  1.34455078, -0.66999342,  0.88903879],\n",
              "       [-0.23373448, -0.78941381, -1.03809739,  0.09464545],\n",
              "       [-0.60161741, -1.65311075,  0.6122492 ,  2.17717428],\n",
              "       [ 1.76375579, -0.1398543 , -1.38678613, -0.65088361],\n",
              "       [ 0.35352491, -1.87168229,  0.9739133 ,  1.07778745]])"
            ]
          },
          "metadata": {},
          "execution_count": 19
        }
      ]
    },
    {
      "cell_type": "code",
      "source": [
        "np.mean(arr)  # arr ning o'rtacha qiymati"
      ],
      "metadata": {
        "colab": {
          "base_uri": "https://localhost:8080/"
        },
        "id": "ZTwUMkeBkeVE",
        "outputId": "d04bfac4-604e-45ca-cc9e-2a5ebad34272"
      },
      "execution_count": 25,
      "outputs": [
        {
          "output_type": "execute_result",
          "data": {
            "text/plain": [
              "-0.0016553449718363588"
            ]
          },
          "metadata": {},
          "execution_count": 25
        }
      ]
    },
    {
      "cell_type": "code",
      "source": [
        "np.mean(arr, axis=1) # qator bo'yich o'rtacha qiymatni qaytaradi"
      ],
      "metadata": {
        "colab": {
          "base_uri": "https://localhost:8080/"
        },
        "id": "32CDdVCjkvVn",
        "outputId": "8635a220-897e-4406-8797-62a9e287930e"
      },
      "execution_count": 26,
      "outputs": [
        {
          "output_type": "execute_result",
          "data": {
            "text/plain": [
              "array([ 0.31975573, -0.49165006,  0.13367383, -0.10344206,  0.13338584])"
            ]
          },
          "metadata": {},
          "execution_count": 26
        }
      ]
    },
    {
      "cell_type": "code",
      "source": [
        "np.mean(arr, axis=0) # ustunlar bo'yicha o'rtacha qiymatni qaytaradi"
      ],
      "metadata": {
        "colab": {
          "base_uri": "https://localhost:8080/"
        },
        "id": "0NtOaOU5lSzi",
        "outputId": "2742fdab-6398-44e6-80f6-34b26d811911"
      },
      "execution_count": 27,
      "outputs": [
        {
          "output_type": "execute_result",
          "data": {
            "text/plain": [
              "array([ 0.19947111, -0.62190208, -0.30174289,  0.71755247])"
            ]
          },
          "metadata": {},
          "execution_count": 27
        }
      ]
    },
    {
      "cell_type": "code",
      "source": [],
      "metadata": {
        "id": "8ZDBMeRslMBr"
      },
      "execution_count": null,
      "outputs": []
    },
    {
      "cell_type": "markdown",
      "source": [
        "#**`Cumsum` methodi**\n",
        "#Tavsif\n",
        "\n",
        "English:\n",
        ">Python numpy cumsum() function returns the cumulative sum of the elements along the given axis.\n",
        "\n",
        "Uzbek:\n",
        ">Barcha yig'indilarni hisobga olib boradigan yig'indi\n",
        "\n"
      ],
      "metadata": {
        "id": "_WCmHCwDlb6n"
      }
    },
    {
      "cell_type": "code",
      "source": [
        "data"
      ],
      "metadata": {
        "colab": {
          "base_uri": "https://localhost:8080/"
        },
        "id": "wP11uIF6mQw9",
        "outputId": "4b75222f-5601-470a-a66d-99eebcbdd0eb"
      },
      "execution_count": 28,
      "outputs": [
        {
          "output_type": "execute_result",
          "data": {
            "text/plain": [
              "array([ 0,  1,  2,  3,  4,  5,  6,  7,  8,  9, 10])"
            ]
          },
          "metadata": {},
          "execution_count": 28
        }
      ]
    },
    {
      "cell_type": "code",
      "source": [
        "data.cumsum()"
      ],
      "metadata": {
        "colab": {
          "base_uri": "https://localhost:8080/"
        },
        "id": "kbJo45dmmQp8",
        "outputId": "0fed2ed0-5db1-42f0-e013-5d08630e66e6"
      },
      "execution_count": 29,
      "outputs": [
        {
          "output_type": "execute_result",
          "data": {
            "text/plain": [
              "array([ 0,  1,  3,  6, 10, 15, 21, 28, 36, 45, 55])"
            ]
          },
          "metadata": {},
          "execution_count": 29
        }
      ]
    },
    {
      "cell_type": "code",
      "source": [
        "np.cumsum(data)"
      ],
      "metadata": {
        "colab": {
          "base_uri": "https://localhost:8080/"
        },
        "id": "qFDHG9TXm7r-",
        "outputId": "ec44da16-c9cb-4165-90e2-b7b6303acacf"
      },
      "execution_count": 30,
      "outputs": [
        {
          "output_type": "execute_result",
          "data": {
            "text/plain": [
              "array([ 0,  1,  3,  6, 10, 15, 21, 28, 36, 45, 55])"
            ]
          },
          "metadata": {},
          "execution_count": 30
        }
      ]
    },
    {
      "cell_type": "code",
      "source": [],
      "metadata": {
        "id": "XAo5dY0gm_VY"
      },
      "execution_count": null,
      "outputs": []
    }
  ]
}